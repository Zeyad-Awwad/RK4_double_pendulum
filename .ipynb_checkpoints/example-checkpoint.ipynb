{
 "cells": [
  {
   "cell_type": "code",
   "execution_count": null,
   "metadata": {},
   "outputs": [],
   "source": [
    "import matplotlib.animation as animation\n",
    "from matplotlib import rc, rcParams\n",
    "import matplotlib.pyplot as plt \n",
    "from IPython.display import HTML\n",
    "\n",
    "from double_pendulum import Simulation, RK4, init, animate\n",
    "from double_pendulum import acceleration_double_pendulum\n",
    "    \n",
    "\n",
    "state = [2., 2.5, 0., 0.]\n",
    "M = [1., 1.]\n",
    "L = [1., 1.]\n",
    "kwargs = { \"M\": M, \"L\": L, 'trail_frames': 50}\n",
    "\n",
    "\n",
    "fig, ax = plt.subplots( figsize=(10,10) )\n",
    "ax.set_xlim( -sum(L), sum(L) )\n",
    "ax.set_ylim( -sum(L), sum(L) )\n",
    "\n",
    "sim = Simulation( state, acceleration_double_pendulum, RK4, kwargs )\n",
    "\n",
    "init(ax,sim)\n",
    "\n",
    "anim = animation.FuncAnimation(fig, animate, frames=2000,                       \n",
    "            interval=30, blit=True, fargs=(0.0175, sim))\n",
    "plt.close()"
   ]
  },
  {
   "cell_type": "markdown",
   "metadata": {},
   "source": [
    "This generates a relatively compact MPEG video from the HTML5 animation"
   ]
  },
  {
   "cell_type": "code",
   "execution_count": null,
   "metadata": {},
   "outputs": [],
   "source": [
    "HTML(anim.to_html5_video())"
   ]
  },
  {
   "cell_type": "markdown",
   "metadata": {},
   "source": [
    "Plots the animation directly using an interactive HTML5 widget (a bit more memory intensive) <br>\n",
    "The 'embed_limit' set maximum memory usage in bytes, set to 50 MB by default"
   ]
  },
  {
   "cell_type": "code",
   "execution_count": null,
   "metadata": {},
   "outputs": [],
   "source": [
    "plt.rcParams[\"animation.html\"] = \"jshtml\"\n",
    "plt.rcParams['animation.embed_limit'] = 5*1e7\n",
    "HTML(anim.to_jshtml())"
   ]
  },
  {
   "cell_type": "markdown",
   "metadata": {},
   "source": [
    "Optionally, we can save the animation in GIF format"
   ]
  },
  {
   "cell_type": "code",
   "execution_count": null,
   "metadata": {},
   "outputs": [],
   "source": [
    "anim.save('example.gif', writer='imagemagick', fps=30)"
   ]
  }
 ],
 "metadata": {
  "kernelspec": {
   "display_name": "Python 3",
   "language": "python",
   "name": "python3"
  },
  "language_info": {
   "codemirror_mode": {
    "name": "ipython",
    "version": 3
   },
   "file_extension": ".py",
   "mimetype": "text/x-python",
   "name": "python",
   "nbconvert_exporter": "python",
   "pygments_lexer": "ipython3",
   "version": "3.7.6"
  }
 },
 "nbformat": 4,
 "nbformat_minor": 4
}
