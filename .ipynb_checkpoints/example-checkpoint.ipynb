{
 "cells": [
  {
   "cell_type": "code",
   "execution_count": null,
   "metadata": {},
   "outputs": [],
   "source": [
    "import matplotlib.animation as animation\n",
    "from matplotlib import rc, rcParams\n",
    "import matplotlib.pyplot as plt \n",
    "from IPython.display import HTML\n",
    "\n",
    "from double_pendulum import Simulation, RK4, SSPRK3, init, animate\n",
    "from double_pendulum import acceleration_double_pendulum, acceleration_n_pendulum\n"
   ]
  },
  {
   "cell_type": "code",
   "execution_count": null,
   "metadata": {},
   "outputs": [],
   "source": [
    "N = 2\n",
    "\n",
    "if N == 2:\n",
    "    state = [2., 2.5, 0., 0.]\n",
    "    M = [1., 1.]\n",
    "    L = [1., 1.]\n",
    "    kwargs = { \"dt\": 0.005, \"M\": M, \"L\": L, 'trail_frames': 50, \"steps_per_frame\": 3}\n",
    "    sim = Simulation( state, acceleration_double_pendulum, RK4, kwargs )\n",
    "else:\n",
    "    state = [ 1 + 0.33*(n+1)/float(N) for n in range(N) ] + [0.] * N\n",
    "    M = [1.] * N\n",
    "    L = [1.] * N\n",
    "    kwargs = { \"dt\": 0.005, \"M\": M, \"L\": L, 'trail_frames': 50, 'steps_per_frame': 8}\n",
    "    sim = Simulation( state, acceleration_n_pendulum, SSPRK3, kwargs )\n",
    "\n",
    "\n",
    "fig = init(sim)\n",
    "anim = animation.FuncAnimation(fig, animate, frames=2000,                       \n",
    "            interval=30, blit=True, fargs=(sim,))\n",
    "plt.close()"
   ]
  },
  {
   "cell_type": "markdown",
   "metadata": {},
   "source": [
    "This generates a relatively compact MPEG video from the HTML5 animation"
   ]
  },
  {
   "cell_type": "code",
   "execution_count": null,
   "metadata": {},
   "outputs": [],
   "source": [
    "HTML(anim.to_html5_video())"
   ]
  },
  {
   "cell_type": "markdown",
   "metadata": {},
   "source": [
    "We can also plot the animation frames directly using an interactive HTML5 widget <br>\n",
    "This is more memory intensive so for longer animations, raise the 'embed_limit' (this sets it to 50 MB)"
   ]
  },
  {
   "cell_type": "code",
   "execution_count": null,
   "metadata": {},
   "outputs": [],
   "source": [
    "plt.rcParams[\"animation.html\"] = \"jshtml\"\n",
    "plt.rcParams['animation.embed_limit'] = 5*1e7\n",
    "HTML(anim.to_jshtml())"
   ]
  },
  {
   "cell_type": "markdown",
   "metadata": {},
   "source": [
    "Optionally, we can save the animation in GIF format"
   ]
  },
  {
   "cell_type": "code",
   "execution_count": null,
   "metadata": {},
   "outputs": [],
   "source": [
    "anim.save('example_' + str(N) + '.gif', writer='imagemagick', fps=30)"
   ]
  },
  {
   "cell_type": "code",
   "execution_count": null,
   "metadata": {},
   "outputs": [],
   "source": []
  },
  {
   "cell_type": "code",
   "execution_count": null,
   "metadata": {},
   "outputs": [],
   "source": []
  }
 ],
 "metadata": {
  "kernelspec": {
   "display_name": "Python 3",
   "language": "python",
   "name": "python3"
  },
  "language_info": {
   "codemirror_mode": {
    "name": "ipython",
    "version": 3
   },
   "file_extension": ".py",
   "mimetype": "text/x-python",
   "name": "python",
   "nbconvert_exporter": "python",
   "pygments_lexer": "ipython3",
   "version": "3.7.6"
  }
 },
 "nbformat": 4,
 "nbformat_minor": 4
}
